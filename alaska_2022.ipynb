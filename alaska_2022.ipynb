{
 "cells": [
  {
   "attachments": {},
   "cell_type": "markdown",
   "id": "540f251e",
   "metadata": {},
   "source": [
    "# 2022 Alaska Primary  Special General Election\n"
   ]
  },
  {
   "attachments": {},
   "cell_type": "markdown",
   "id": "424484e8",
   "metadata": {},
   "source": [
    "* The results for the 2022 Special General Eleciton in Alaska can be downloaded here [https://www.elections.alaska.gov/election-results/e/?id=22sspg](https://www.elections.alaska.gov/election-results/e/?id=22sspg)\n",
    "\n",
    "* There were 4 candidates (including Write-Ins) and  192,542 voters: \n",
    "\n",
    "    1. Nick Begich ($N$)\n",
    "    2. Sarah Palin ($P$)\n",
    "    3. Mary S. Peltola ($M$)\n",
    "    4. Write-Ins ($W$)\n",
    "    \n",
    "* The Ranked Choice winner is Mary S. Peltola. After removing the Write-Ins, Begich loses in the first round leaving Palin in Peltola.  \n",
    "\n",
    "* Analyses of this election can be found at the following blog posts: \n",
    "\n",
    "    * [https://electionscience.org/commentary-analysis/rcv-fools-palin-voters-into-electing-a-progressive-democrat/](https://electionscience.org/commentary-analysis/rcv-fools-palin-voters-into-electing-a-progressive-democrat/).\n",
    "    * [https://fairvote.org/alaska_rcv_analysis/](https://fairvote.org/alaska_rcv_analysis/)\n",
    "\n",
    "* One difficulty when converting a CVR file to a profile is rankings is how to truncate a ballot when a voter *overvotes* (places more than two candidates at the same rank).  The rules used to truncate ballots in the Alaska election can be found [here](https://casetext.com/statute/alaska-statutes/title-15-elections/chapter-1515-elections-and-ballots/section-1515350-general-procedure-for-ballot-count?searchWithin=true&listingIndexId=alaska-statutes&q=ranked%20choice%20voting&type=statute&sort=relevance&p=1&tab=keyword&jxs=).  The two key rules are to truncate ballots at the first overvote and truncate ballots if the voter skips two rankings. \n",
    "\n",
    "    See [https://github.com/jirin1a/alaska_irv_2022/](https://github.com/jirin1a/alaska_irv_2022/) for another way to process the cvr file. \n",
    "\n",
    "* The Condorcet winner was Begich, but was not elected by Ranked Choice"
   ]
  },
  {
   "cell_type": "code",
   "execution_count": 1,
   "id": "326529a5",
   "metadata": {},
   "outputs": [],
   "source": [
    "from pref_voting.profiles_with_ties import *\n",
    "from pref_voting.voting_methods import *\n",
    "import json\n",
    "from tqdm.notebook import tqdm"
   ]
  },
  {
   "cell_type": "code",
   "execution_count": 2,
   "id": "fc100ef7",
   "metadata": {},
   "outputs": [],
   "source": [
    "f = open('./edata/alaska_2022/alaska_ranked_choice_2022_cvr.json')\n",
    "data = json.load(f)"
   ]
  },
  {
   "cell_type": "code",
   "execution_count": 3,
   "id": "2bb018a8",
   "metadata": {},
   "outputs": [],
   "source": [
    "\n",
    "def _truncation(ranking, max_rank, truncate_at_overvote=True, truncate_when_skip = False, truncate_when_skipped_two=False): \n",
    "    new_ranking = dict()\n",
    "    prev_ranked_cand = 0\n",
    "    for rnk in range(1, max_rank+1):\n",
    "        cands_at_rank = [c for c in ranking.keys() if ranking[c] == rnk]\n",
    "        if len(cands_at_rank) == 1: \n",
    "            new_ranking[cands_at_rank[0]] = rnk\n",
    "            prev_ranked_cand = rnk\n",
    "        elif len(cands_at_rank) == 0:\n",
    "            if truncate_when_skip: \n",
    "                return new_ranking\n",
    "            if truncate_when_skipped_two and rnk - prev_ranked_cand == 2: \n",
    "                return new_ranking\n",
    "        elif len(cands_at_rank) > 0: \n",
    "            if truncate_at_overvote: \n",
    "                return new_ranking\n",
    "            else: \n",
    "                for c in cands_at_rank: \n",
    "                    new_ranking[c] = rnk\n",
    "    return new_ranking\n",
    "    \n",
    "def process_cvr_data(cvr_data, \n",
    "                     election_id, \n",
    "                     cmap, \n",
    "                     max_rank, \n",
    "                     ignore_ambiguous_marks = True, \n",
    "                     truncation_type = \"simple\", \n",
    "                     verbose=False): \n",
    "    \n",
    "    truncation_rules = {\n",
    "        \n",
    "        \"Alaska\":  lambda ranking, max_rank: _truncation(ranking, \n",
    "                                                         max_rank, \n",
    "                                                         truncate_at_overvote=True, \n",
    "                                                         truncate_when_skip=False,           \n",
    "                                                         truncate_when_skipped_two=True),\n",
    "        \n",
    "        \"San Francisco\": lambda ranking, max_rank: _truncation(ranking,  max_rank,   \n",
    "                                                               truncate_at_overvote=True, \n",
    "                                                               truncate_when_skip=False, \n",
    "                                                               truncate_when_skipped_two=False),\n",
    "        \n",
    "        \"simple\": lambda ranking, max_rank: _truncation(ranking, \n",
    "                                                        max_rank, \n",
    "                                                        truncate_at_overvote=False,\n",
    "                                                        truncate_when_skip=False, \n",
    "                                                        truncate_when_skipped_two=False)    \n",
    "    }\n",
    "    \n",
    "    report = {\n",
    "        \"num_ballots_with_ambiguous_marks\": 0,\n",
    "        \"num_overvotes\": 0,\n",
    "        \"num_ballots_with_skipped_ranks\": 0,\n",
    "        \"num_ballots_with_multiple_cand_ranks\": 0,\n",
    "        \"num_empty_ballots\": 0,\n",
    "        \"num_bullet_votes\": 0,\n",
    "        \"num_rank_one\": 0,\n",
    "        \"num_truncated_ranking\": 0\n",
    "    }\n",
    "    num_ambiguous_marks = 0\n",
    "    rankings = list()\n",
    "    for c in cvr_data['Contests']:\n",
    "        if c[\"Id\"] == election_id:\n",
    "            has_ambiguous_mark = False\n",
    "            ranking = {}\n",
    "\n",
    "            if any([int(_m[\"Rank\"]) > 4 for _m in c[\"Marks\"] if not _m[\"IsAmbiguous\"]]): \n",
    "                print(c[\"Marks\"])\n",
    "                print(\"\\n----\\n\")\n",
    "            for m in c[\"Marks\"]: \n",
    "                if m[\"IsAmbiguous\"]: \n",
    "                    has_ambiguous_mark = True\n",
    "                    num_ambiguous_marks += 1\n",
    "                    if not ignore_ambiguous_marks: \n",
    "                        # check if candidate is double ranked, but ignore write ins (candidate id 214)\n",
    "                        if m[\"CandidateId\"] != 214 and m[\"CandidateId\"] in ranking.keys(): \n",
    "                            report[\"num_ballots_with_multiple_cand_ranks\"] += 1\n",
    "                            if int(m[\"Rank\"]) < ranking[m[\"CandidateId\"]]: \n",
    "                                # keep the highest rank\n",
    "                                ranking[m[\"CandidateId\"]] = int(m[\"Rank\"])\n",
    "                        else: \n",
    "                            ranking[m[\"CandidateId\"]] = int(m[\"Rank\"])\n",
    "                else: \n",
    "                    # check if candidate is double ranked, but ignore write ins (candidate id 214)\n",
    "                    if m[\"CandidateId\"] != 214 and m[\"CandidateId\"] in ranking.keys():  \n",
    "                        report[\"num_ballots_with_multiple_cand_ranks\"] += 1\n",
    "                        if int(m[\"Rank\"]) < ranking[m[\"CandidateId\"]]: \n",
    "                            # keep the highest rank\n",
    "                            ranking[m[\"CandidateId\"]] = int(m[\"Rank\"])\n",
    "                    else: \n",
    "                        ranking[m[\"CandidateId\"]] = int(m[\"Rank\"])\n",
    "            if has_ambiguous_mark: \n",
    "                report[\"num_ballots_with_ambiguous_marks\"] += 1\n",
    "            ranks = list(ranking.values())\n",
    "\n",
    "            if len(ranks) == 0: \n",
    "                report[\"num_empty_ballots\"] += 1\n",
    "\n",
    "            if len(list(set(ranks))) != len(ranks): \n",
    "                report[\"num_overvotes\"] += 1\n",
    "\n",
    "            if len(ranks) > 0 and len(list(set(ranks))) != max(ranks): \n",
    "                report[\"num_ballots_with_skipped_ranks\"] += 1\n",
    "\n",
    "            if ranks == [1]: \n",
    "                report[\"num_bullet_votes\"] += 1\n",
    "\n",
    "            if len(list(set(ranks))) == 1: \n",
    "                report[\"num_rank_one\"] += 1\n",
    "\n",
    "            truncated_ranking = truncation_rules[truncation_type](ranking, max_rank)\n",
    "\n",
    "            if ranking == truncated_ranking: \n",
    "                rankings.append(ranking)\n",
    "            else: \n",
    "                report[\"num_truncated_ranking\"] += 1\n",
    "                rankings.append(truncated_ranking)\n",
    "                        \n",
    "    if verbose: \n",
    "        print(f'''The number of ballots: {len(rankings)}\n",
    "        The number of empty ballots: {report[\"num_empty_ballots\"]}\n",
    "        The number of ambiguous marks: {num_ambiguous_marks}\n",
    "        The number of ballots with ambiguous marks: {report[\"num_ballots_with_ambiguous_marks\"]}\n",
    "        The number of ballots with multiple ranks for a candidate: {report[\"num_ballots_with_multiple_cand_ranks\"]}\n",
    "        The number of ballots with overvote: {report[\"num_overvotes\"]}\n",
    "        The number of ballots with a skipped ranking: {report[\"num_ballots_with_skipped_ranks\"]}\n",
    "        The number of bullet votes: {report[\"num_bullet_votes\"]}\n",
    "        The number of ballots with one ranking: {report[\"num_rank_one\"]}\n",
    "        The number of ballots that were truncated: {report[\"num_truncated_ranking\"]}      \n",
    "        ''')\n",
    "        \n",
    "    profile = ProfileWithTies(rankings, cmap=cmap, candidates=sorted(cmap.keys()))\n",
    "    \n",
    "    if verbose: \n",
    "        print(\"After processing the ballots:\\n\")\n",
    "        profile.report()\n",
    "    return profile\n",
    "\n"
   ]
  },
  {
   "cell_type": "code",
   "execution_count": 4,
   "id": "edd66d4b",
   "metadata": {},
   "outputs": [],
   "source": [
    "def display_instant_runoff_results(prof): \n",
    "    \"\"\"\n",
    "    Display the instant runoff results, ignoring any overvotes.   \n",
    "    \n",
    "    Note that, in principle, this could give a different answer than first truncating the ballots at any overvotes, \n",
    "    then finding the irv winner(s).\n",
    "    \"\"\"\n",
    "    rounds = list()\n",
    "    \n",
    "    remaining_candidates = prof.candidates\n",
    "    \n",
    "    while len(remaining_candidates) > 1: \n",
    "        reduced_prof = prof.remove_candidates([c for c in prof.candidates if c not in remaining_candidates])\n",
    "        \n",
    "        pl_scores = reduced_prof.plurality_scores_ignoring_overvotes()\n",
    "        lowest_pl_score = min(pl_scores.values())\n",
    "        cands_to_remove = [c for c in pl_scores.keys() if pl_scores[c] == lowest_pl_score]\n",
    "        \n",
    "        sorted_pl_scores = sorted(pl_scores.values(), reverse=True)\n",
    "        sorted_cands = sorted(pl_scores.items(), reverse=True, key=lambda cpl: cpl[1])\n",
    "        rounds.append('\\n'.join([f\"\\t{prof.cmap[c]} plurality score: {pl_score}\" for c, pl_score in sorted_cands]) + '\\n' + f'\\tThe candidate removed during this round: {reduced_prof.cmap[cands_to_remove[0]]}')\n",
    "        remaining_candidates = [c for c in remaining_candidates if c not in cands_to_remove]\n",
    "        \n",
    "    for ridx, r in enumerate(rounds): \n",
    "        print(f\"Instant Runoff round {ridx +1}\")\n",
    "        print(r)\n",
    "        \n",
    "    print(f\"The IRV winner is {prof.cmap[remaining_candidates[0]]}\")\n",
    "    \n"
   ]
  },
  {
   "attachments": {},
   "cell_type": "markdown",
   "id": "b8c5d7a8",
   "metadata": {},
   "source": [
    "## Alaska Truncation Rules"
   ]
  },
  {
   "cell_type": "code",
   "execution_count": null,
   "id": "29389e5d",
   "metadata": {
    "scrolled": false
   },
   "outputs": [
    {
     "name": "stdout",
     "output_type": "stream",
     "text": [
      "Alaska rules for truncating ballots\n",
      "\n",
      "\n",
      "Ignoring ambiguous marks\n",
      "\n"
     ]
    }
   ],
   "source": [
    "election_id = 69\n",
    "cmap = {215: \"N\", 217:\"S\", 218: \"M\", 214: \"W\"}\n",
    "max_rank = 4\n",
    "rc_winner = 218\n",
    "\n",
    "print(\"Alaska rules for truncating ballots\\n\")\n",
    "\n",
    "print(\"\\nIgnoring ambiguous marks\\n\")\n",
    "prof1 = process_cvr_data(data, \n",
    "                         election_id, \n",
    "                         cmap, \n",
    "                         max_rank,\n",
    "                         ignore_ambiguous_marks = True, \n",
    "                         truncation_type = \"Alaska\",\n",
    "                         verbose=True)\n",
    "\n",
    "\n",
    "prof1.use_extended_strict_preference()\n",
    "\n",
    "print(\"Margin graph using extended strict preference\")\n",
    "prof1.display_margin_graph()\n",
    "\n",
    "print()\n",
    "# uncomment to see the rankings \n",
    "# print(\"The anonymous profile of rankings: \")\n",
    "# prof1.display_rankings()\n",
    "\n",
    "    \n",
    "print(\"\\nDo not ignore ambiguous marks\\n\")\n",
    "\n",
    "prof2 = process_cvr_data(data, \n",
    "                         election_id, \n",
    "                         cmap, \n",
    "                         max_rank,\n",
    "                         ignore_ambiguous_marks = False, \n",
    "                         truncation_type = \"Alaska\",\n",
    "                         verbose=True)\n",
    "\n",
    "\n",
    "prof2.use_extended_strict_preference()\n",
    "\n",
    "print(\"Margin graph using extended strict preference\")\n",
    "prof2.display_margin_graph()\n",
    "\n",
    "# uncomment to see the rankings \n",
    "#print(\"The anonymous profile of rankings: \")\n",
    "#prof2.display_rankings()\n",
    "\n"
   ]
  },
  {
   "cell_type": "code",
   "execution_count": 6,
   "id": "42f3f062",
   "metadata": {},
   "outputs": [
    {
     "name": "stdout",
     "output_type": "stream",
     "text": [
      "+-------+-------+-------+-------+-------+-------+------+-------+------+\n",
      "| 47404 | 23736 | 21260 | 27054 | 11280 | 15463 | 4648 | 34052 | 3654 |\n",
      "+-------+-------+-------+-------+-------+-------+------+-------+------+\n",
      "|   M   |   M   |   S   |   N   |   N   |   N   |  M   |   S   |  S   |\n",
      "|   N   |  N S  |  N M  |   S   |  S M  |   M   |  S   |   N   |  M   |\n",
      "|   S   |       |       |   M   |       |   S   |  N   |   M   |  N   |\n",
      "+-------+-------+-------+-------+-------+-------+------+-------+------+\n"
     ]
    },
    {
     "data": {
      "image/png": "[encoded data removed]",
      "text/plain": [
       "<Figure size 640x480 with 1 Axes>"
      ]
     },
     "metadata": {},
     "output_type": "display_data"
    }
   ],
   "source": [
    "# anonymous rankings after removing candidate W (214)\n",
    "\n",
    "_reduced_prof = prof2.remove_candidates([214])\n",
    "_reduced_prof.remove_empty_rankings()\n",
    "\n",
    "reduced_prof = _reduced_prof.add_unranked_candidates()\n",
    "\n",
    "reduced_prof.display()\n",
    "reduced_prof.display_margin_graph()"
   ]
  },
  {
   "cell_type": "code",
   "execution_count": 7,
   "id": "ba189f83",
   "metadata": {},
   "outputs": [
    {
     "name": "stdout",
     "output_type": "stream",
     "text": [
      "Instant Runoff round 1\n",
      "\tM plurality score: 74815\n",
      "\tS plurality score: 58544\n",
      "\tN plurality score: 52774\n",
      "\tW plurality score: 2921\n",
      "\tThe candidate removed during this round: W\n",
      "Instant Runoff round 2\n",
      "\tM plurality score: 75788\n",
      "\tS plurality score: 58966\n",
      "\tN plurality score: 53797\n",
      "\tThe candidate removed during this round: N\n",
      "Instant Runoff round 3\n",
      "\tM plurality score: 91251\n",
      "\tS plurality score: 86020\n",
      "\tThe candidate removed during this round: S\n",
      "The IRV winner is M\n"
     ]
    }
   ],
   "source": [
    "display_instant_runoff_results(prof2)"
   ]
  },
  {
   "cell_type": "code",
   "execution_count": 8,
   "id": "85d21776",
   "metadata": {},
   "outputs": [
    {
     "name": "stdout",
     "output_type": "stream",
     "text": [
      "The Condorcet winner is N.\n",
      "Split Cycle winner is {N}\n",
      "Stable Voting winner is {N}\n",
      "Minimax winner is {N}\n",
      "Beat Path winner is {N}\n",
      "Copeland winner is {N}\n",
      "\n",
      "The Condorcet loser is W.\n"
     ]
    }
   ],
   "source": [
    "cw = prof2.condorcet_winner()\n",
    "\n",
    "if cw is None: \n",
    "    print(\"There is no Condorcet winner.\")\n",
    "else: \n",
    "    print(f\"The Condorcet winner is {cmap[cw]}.\")\n",
    "\n",
    "split_cycle.display(prof2)\n",
    "stable_voting.display(prof2)\n",
    "minimax.display(prof2)\n",
    "beat_path_Floyd_Warshall.display(prof2)\n",
    "copeland.display(prof2)\n",
    "\n",
    "print()\n",
    "\n",
    "cl = prof2.condorcet_loser()\n",
    "\n",
    "if cl is None: \n",
    "    print(\"There is no Condorcet loser.\")\n",
    "else: \n",
    "    print(f\"The Condorcet loser is {cmap[cl]}.\")"
   ]
  },
  {
   "cell_type": "code",
   "execution_count": 9,
   "id": "944cccb0",
   "metadata": {},
   "outputs": [
    {
     "name": "stdout",
     "output_type": "stream",
     "text": [
      "Instant Runoff winner is {M}\n",
      "The margins of M over each other candidate is: \n",
      "\tThe margin of M over W is 100528\n",
      "\tThe margin of M over N is -8407\n",
      "\tThe margin of M over S is 5231\n"
     ]
    }
   ],
   "source": [
    "instant_runoff_for_truncated_linear_orders.display(prof2)\n",
    "irv_winner = instant_runoff_for_truncated_linear_orders(prof2)[0]\n",
    "print(f\"The margins of {cmap[irv_winner]} over each other candidate is: \")\n",
    "for c in prof2.candidates: \n",
    "    if c != rc_winner:\n",
    "        print(f\"\\tThe margin of {cmap[irv_winner]} over {cmap[c]} is {prof2.margin(rc_winner, c)}\")"
   ]
  },
  {
   "attachments": {},
   "cell_type": "markdown",
   "id": "706e89d8",
   "metadata": {},
   "source": [
    "## Borda winners"
   ]
  },
  {
   "cell_type": "code",
   "execution_count": 10,
   "id": "3eee9065",
   "metadata": {},
   "outputs": [
    {
     "name": "stdout",
     "output_type": "stream",
     "text": [
      "Symmetric Borda:  N\n",
      "Domination Borda:  N\n",
      "Weak Domination Borda:  N\n",
      "Non-Domination Borda:  N\n"
     ]
    }
   ],
   "source": [
    "print(\"Symmetric Borda: \", \n",
    "      \", \".join([prof1.cmap[c] for c in borda_for_profile_with_ties(prof1, borda_scores = symmetric_borda_scores)]))    \n",
    "print(\"Domination Borda: \", \n",
    "      \", \".join([prof1.cmap[c] for c in borda_for_profile_with_ties(prof1, borda_scores = domination_borda_scores)]))    \n",
    "\n",
    "print(\"Weak Domination Borda: \", \n",
    "      \", \".join([prof1.cmap[c] for c in borda_for_profile_with_ties(prof1, borda_scores = weak_domination_borda_scores)]))    \n",
    "\n",
    "print(\"Non-Domination Borda: \", \n",
    "      \", \".join([prof1.cmap[c] for c in borda_for_profile_with_ties(prof1, borda_scores = non_domination_borda_scores)]))    \n"
   ]
  },
  {
   "attachments": {},
   "cell_type": "markdown",
   "id": "8ada3b3e",
   "metadata": {},
   "source": [
    "## Failure of Negative Involvement"
   ]
  },
  {
   "cell_type": "code",
   "execution_count": 11,
   "id": "fe3a5e6f",
   "metadata": {},
   "outputs": [
    {
     "name": "stdout",
     "output_type": "stream",
     "text": [
      "+-------+-------+-------+-------+-------+-------+------+-------+------+\n",
      "| 47404 | 23736 | 21260 | 27054 | 11280 | 15463 | 4648 | 34052 | 3654 |\n",
      "+-------+-------+-------+-------+-------+-------+------+-------+------+\n",
      "|   M   |   M   |   S   |   N   |   N   |   N   |  M   |   S   |  S   |\n",
      "|   N   |       |       |   S   |       |   M   |  S   |   N   |  M   |\n",
      "|   S   |       |       |   M   |       |   S   |  N   |   M   |  N   |\n",
      "+-------+-------+-------+-------+-------+-------+------+-------+------+\n",
      "Instant Runoff winner is {M}\n"
     ]
    }
   ],
   "source": [
    "init_prof, cmap = reduced_prof.truncate_overvotes()\n",
    "init_prof.display()\n",
    "\n",
    "instant_runoff_for_truncated_linear_orders.display(init_prof)\n"
   ]
  },
  {
   "cell_type": "code",
   "execution_count": 12,
   "id": "c6f69f06",
   "metadata": {},
   "outputs": [
    {
     "name": "stdout",
     "output_type": "stream",
     "text": [
      "After removing 5,170 voters with the ranking S N M, the winner is N\n",
      "+-------+-------+-------+-------+-------+-------+------+-------+------+\n",
      "| 47404 | 23736 | 21260 | 27054 | 11280 | 15463 | 4648 | 28882 | 3654 |\n",
      "+-------+-------+-------+-------+-------+-------+------+-------+------+\n",
      "|   M   |   M   |   S   |   N   |   N   |   N   |  M   |   S   |  S   |\n",
      "|   N   |       |       |   S   |       |   M   |  S   |   N   |  M   |\n",
      "|   S   |       |       |   M   |       |   S   |  N   |   M   |  N   |\n",
      "+-------+-------+-------+-------+-------+-------+------+-------+------+\n",
      "Instant Runoff winner is {N}\n",
      "\n",
      "So, N wins without 5,170 voters that rank M is last place.   With these voters in the election, their last place candidate M wins the election according to instant runoff voting. \n"
     ]
    }
   ],
   "source": [
    "rankings, counts = init_prof.rankings_counts\n",
    "\n",
    "print(\"After removing 5,170 voters with the ranking S N M, the winner is N\")\n",
    "new_counts = [c for c in counts]\n",
    "new_counts[7] = new_counts[7] - 5170\n",
    "new_prof = ProfileWithTies([r.rmap for r in rankings], rcounts=new_counts, cmap = reduced_prof.cmap)\n",
    "new_prof.display()\n",
    "instant_runoff_for_truncated_linear_orders.display(new_prof)\n",
    "\n",
    "print(\"\\nSo, N wins without 5,170 voters that rank M is last place.   With these voters in the election, their last place candidate M wins the election according to instant runoff voting. \")"
   ]
  },
  {
   "cell_type": "code",
   "execution_count": 13,
   "id": "d082be37",
   "metadata": {},
   "outputs": [
    {
     "data": {
      "application/vnd.jupyter.widget-view+json": {
       "model_id": "2653f872110f4afa851a5501d4c1ec29",
       "version_major": 2,
       "version_minor": 0
      },
      "text/plain": [
       "  0%|          | 0/34053 [00:00<?, ?it/s]"
      ]
     },
     "metadata": {},
     "output_type": "display_data"
    },
    {
     "name": "stdout",
     "output_type": "stream",
     "text": [
      "3237 violations of Negative Involvement\n",
      "A minimum of 5170 or a maximum of 8406 voters demonstrate a violation of Negative Involvement\n"
     ]
    },
    {
     "data": {
      "application/vnd.jupyter.widget-view+json": {
       "model_id": "4276bd5a01bc4151b5e27409bf35c952",
       "version_major": 2,
       "version_minor": 0
      },
      "text/plain": [
       "  0%|          | 0/3237 [00:00<?, ?it/s]"
      ]
     },
     "metadata": {},
     "output_type": "display_data"
    },
    {
     "name": "stdout",
     "output_type": "stream",
     "text": [
      "Removing any group of voters between 5170 to 8406 voters demonstrate a violation of Negative Involvement\n"
     ]
    }
   ],
   "source": [
    "N = 215\n",
    "\n",
    "num_negative_involvement_violations = 0\n",
    "\n",
    "min_num_cands = 34052\n",
    "max_num_cands = 0\n",
    "\n",
    "for num_to_remove in tqdm(range(0, 34053)): \n",
    "    rankings, counts = init_prof.rankings_counts\n",
    "    new_counts = [c for c in counts]\n",
    "    new_counts[7] = new_counts[7] - num_to_remove\n",
    "    new_prof = ProfileWithTies([r.rmap for r in rankings], rcounts=new_counts, cmap = reduced_prof.cmap)\n",
    "    ws_without_voters = instant_runoff_for_truncated_linear_orders(new_prof)\n",
    "    if [N] ==  ws_without_voters: \n",
    "        num_negative_involvement_violations += 1\n",
    "        if num_to_remove < min_num_cands: \n",
    "            min_num_cands = num_to_remove\n",
    "        if num_to_remove > max_num_cands: \n",
    "            max_num_cands = num_to_remove\n",
    "\n",
    "print(f\"{num_negative_involvement_violations} violations of Negative Involvement\")\n",
    "\n",
    "print(f\"A minimum of {min_num_cands} or a maximum of {max_num_cands} voters demonstrate a violation of Negative Involvement\")\n",
    "\n",
    "\n",
    "for num_to_remove in tqdm(range(min_num_cands, max_num_cands+1)): \n",
    "    rankings, counts = init_prof.rankings_counts\n",
    "    new_counts = [c for c in counts]\n",
    "    new_counts[7] = new_counts[7] - num_to_remove\n",
    "    new_prof = ProfileWithTies([r.rmap for r in rankings], rcounts=new_counts, cmap = reduced_prof.cmap)\n",
    "    ws_without_voters = instant_runoff_for_truncated_linear_orders(new_prof)\n",
    "    not_all_counterexamples = False\n",
    "    if [N] !=  ws_without_voters: \n",
    "        not_all_counterexamples = True\n",
    "        print(f\"{num_to_remove} does not demonstrate a vioaltion of Negative Involvement.\")\n",
    "    \n",
    "if not_all_counterexamples: \n",
    "    print(f\"Not all groups of voters between {min_num_cands} to {max_num_cands} voters demonstrate a violation of Negative Involvement\")\n",
    "else:\n",
    "    print(f\"Removing any group of voters between {min_num_cands} to {max_num_cands} voters demonstrate a violation of Negative Involvement\")\n"
   ]
  },
  {
   "attachments": {},
   "cell_type": "markdown",
   "id": "351a0946",
   "metadata": {},
   "source": [
    "## Do not truncate ballots"
   ]
  },
  {
   "cell_type": "code",
   "execution_count": 14,
   "id": "9e875ac3",
   "metadata": {
    "scrolled": false
   },
   "outputs": [
    {
     "name": "stdout",
     "output_type": "stream",
     "text": [
      "Do not truncate ballots\n",
      "\n",
      "Ignoring ambiguous marks\n",
      "The number of ballots: 192289\n",
      "        The number of empty ballots: 2776\n",
      "        The number of ambiguous marks: 281\n",
      "        The number of ballots with ambiguous marks: 173\n",
      "        The number of ballots with multiple ranks for a candidate: 8899\n",
      "        The number of ballots with overvote: 661\n",
      "        The number of ballots with a skipped ranking: 6267\n",
      "        The number of bullet votes: 51037\n",
      "        The number of ballots with one ranking: 51612\n",
      "        The number of ballots that were truncated: 0      \n",
      "        \n",
      "After processing the ballots:\n",
      "\n",
      "There are 4 candidates and 192289 rankings:  \n",
      "        The number of empty rankings: 2776\n",
      "        The number of rankings with ties: 661\n",
      "        The number of linear orders: 10093\n",
      "        The number of truncated linear orders: 178759\n",
      "        \n",
      "The number of rankings with skipped ranks: 6267\n",
      "        \n",
      "        \n",
      "Margin graph using extended strict preference\n"
     ]
    },
    {
     "data": {
      "image/png": "[encoded data removed]",
      "text/plain": [
       "<Figure size 640x480 with 1 Axes>"
      ]
     },
     "metadata": {},
     "output_type": "display_data"
    },
    {
     "name": "stdout",
     "output_type": "stream",
     "text": [
      "\n",
      "Do not ignore ambiguous marks\n",
      "The number of ballots: 192289\n",
      "        The number of empty ballots: 2773\n",
      "        The number of ambiguous marks: 281\n",
      "        The number of ballots with ambiguous marks: 173\n",
      "        The number of ballots with multiple ranks for a candidate: 9037\n",
      "        The number of ballots with overvote: 747\n",
      "        The number of ballots with a skipped ranking: 6299\n",
      "        The number of bullet votes: 51017\n",
      "        The number of ballots with one ranking: 51615\n",
      "        The number of ballots that were truncated: 0      \n",
      "        \n",
      "After processing the ballots:\n",
      "\n",
      "There are 4 candidates and 192289 rankings:  \n",
      "        The number of empty rankings: 2773\n",
      "        The number of rankings with ties: 747\n",
      "        The number of linear orders: 10088\n",
      "        The number of truncated linear orders: 178681\n",
      "        \n",
      "The number of rankings with skipped ranks: 6299\n",
      "        \n",
      "        \n",
      "Margin graph using extended strict preference\n"
     ]
    },
    {
     "data": {
      "image/png": "[encoded data removed]",
      "text/plain": [
       "<Figure size 640x480 with 1 Axes>"
      ]
     },
     "metadata": {},
     "output_type": "display_data"
    }
   ],
   "source": [
    "\n",
    "election_id = 69\n",
    "cmap = {215: \"N\", 217:\"S\", 218: \"M\", 214: \"W\"}\n",
    "max_rank = 4\n",
    "\n",
    "print(\"Do not truncate ballots\\n\")\n",
    "\n",
    "print(\"Ignoring ambiguous marks\")\n",
    "prof1 = process_cvr_data(data, \n",
    "                         election_id, \n",
    "                         cmap, \n",
    "                         max_rank,\n",
    "                         ignore_ambiguous_marks = True, \n",
    "                         truncation_type = \"simple\",\n",
    "                         verbose=True)\n",
    "\n",
    "prof1.use_extended_strict_preference()\n",
    "\n",
    "print(\"Margin graph using extended strict preference\")\n",
    "prof1.display_margin_graph()\n",
    "\n",
    "## uncomment to display rankings\n",
    "#prof1.display_rankings()\n",
    "    \n",
    "print(\"\\nDo not ignore ambiguous marks\")\n",
    "\n",
    "prof2 = process_cvr_data(data, \n",
    "                         election_id, \n",
    "                         cmap, \n",
    "                         max_rank,\n",
    "                         ignore_ambiguous_marks=False, \n",
    "                         truncation_type=\"simple\",\n",
    "                         verbose=True)\n",
    "\n",
    "prof2.use_extended_strict_preference()\n",
    "\n",
    "print(\"Margin graph using extended strict preference\")\n",
    "prof2.display_margin_graph()\n",
    "\n",
    "## uncomment to display rankings\n",
    "#prof2.display_rankings()\n",
    "\n"
   ]
  },
  {
   "cell_type": "code",
   "execution_count": 15,
   "id": "17bbec9f",
   "metadata": {},
   "outputs": [
    {
     "name": "stdout",
     "output_type": "stream",
     "text": [
      "Instant Runoff round 1\n",
      "\tM plurality score: 74835\n",
      "\tS plurality score: 58580\n",
      "\tN plurality score: 52798\n",
      "\tW plurality score: 2952\n",
      "\tThe candidate removed during this round: W\n",
      "Instant Runoff round 2\n",
      "\tM plurality score: 75855\n",
      "\tS plurality score: 59048\n",
      "\tN plurality score: 53861\n",
      "\tThe candidate removed during this round: N\n",
      "Instant Runoff round 3\n",
      "\tM plurality score: 91434\n",
      "\tS plurality score: 86314\n",
      "\tThe candidate removed during this round: S\n",
      "The IRV winner is M\n"
     ]
    }
   ],
   "source": [
    "display_instant_runoff_results(prof2)"
   ]
  },
  {
   "cell_type": "code",
   "execution_count": 16,
   "id": "dc46c2a0",
   "metadata": {
    "scrolled": false
   },
   "outputs": [
    {
     "name": "stdout",
     "output_type": "stream",
     "text": [
      "The Condorcet winner is N.\n",
      "Split Cycle winner is {N}\n",
      "Stable Voting winner is {N}\n",
      "Minimax winner is {N}\n",
      "Beat Path winner is {N}\n",
      "Copeland winner is {N}\n",
      "\n",
      "The Condorcet loser is W.\n"
     ]
    }
   ],
   "source": [
    "cw = prof2.condorcet_winner()\n",
    "\n",
    "if cw is None: \n",
    "    print(\"There is no Condorcet winner.\")\n",
    "else: \n",
    "    print(f\"The Condorcet winner is {cmap[cw]}.\")\n",
    "\n",
    "split_cycle.display(prof2)\n",
    "stable_voting.display(prof2)\n",
    "minimax.display(prof2)\n",
    "beat_path.display(prof2)\n",
    "copeland.display(prof2)\n",
    "\n",
    "print()\n",
    "\n",
    "cl = prof2.condorcet_loser()\n",
    "\n",
    "if cl is None: \n",
    "    print(\"There is no Condorcet loser.\")\n",
    "else: \n",
    "    print(f\"The Condorcet loser is {cmap[cl]}.\")"
   ]
  }
 ],
 "metadata": {
  "@webio": {
   "lastCommId": null,
   "lastKernelId": null
  },
  "kernelspec": {
   "display_name": "Python 3",
   "language": "python",
   "name": "python3"
  },
  "language_info": {
   "codemirror_mode": {
    "name": "ipython",
    "version": 3
   },
   "file_extension": ".py",
   "mimetype": "text/x-python",
   "name": "python",
   "nbconvert_exporter": "python",
   "pygments_lexer": "ipython3",
   "version": "3.10.16"
  },
  "varInspector": {
   "cols": {
    "lenName": 16,
    "lenType": 16,
    "lenVar": 40
   },
   "kernels_config": {
    "python": {
     "delete_cmd_postfix": "",
     "delete_cmd_prefix": "del ",
     "library": "var_list.py",
     "varRefreshCmd": "print(var_dic_list())"
    },
    "r": {
     "delete_cmd_postfix": ") ",
     "delete_cmd_prefix": "rm(",
     "library": "var_list.r",
     "varRefreshCmd": "cat(var_dic_list()) "
    }
   },
   "types_to_exclude": [
    "module",
    "function",
    "builtin_function_or_method",
    "instance",
    "_Feature"
   ],
   "window_display": false
  }
 },
 "nbformat": 4,
 "nbformat_minor": 5
}
